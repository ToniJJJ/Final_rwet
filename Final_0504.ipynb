{
 "cells": [
  {
   "cell_type": "code",
   "execution_count": 31,
   "id": "1347541f",
   "metadata": {
    "scrolled": true
   },
   "outputs": [
    {
     "name": "stdout",
     "output_type": "stream",
     "text": [
      "Requirement already satisfied: tracery in /Users/yudong-gu/opt/anaconda3/lib/python3.9/site-packages (0.1.1)\n",
      "Note: you may need to restart the kernel to use updated packages.\n"
     ]
    }
   ],
   "source": [
    "pip install tracery"
   ]
  },
  {
   "cell_type": "code",
   "execution_count": 32,
   "id": "4ca68a25",
   "metadata": {
    "scrolled": true
   },
   "outputs": [
    {
     "name": "stdout",
     "output_type": "stream",
     "text": [
      "Requirement already satisfied: tracery in /Users/yudong-gu/opt/anaconda3/lib/python3.9/site-packages (0.1.1)\r\n"
     ]
    }
   ],
   "source": [
    "import sys\n",
    "!{sys.executable} -m pip install tracery"
   ]
  },
  {
   "cell_type": "code",
   "execution_count": 33,
   "id": "fd626ed3",
   "metadata": {},
   "outputs": [],
   "source": [
    "import tracery"
   ]
  },
  {
   "cell_type": "code",
   "execution_count": 34,
   "id": "83eaf330",
   "metadata": {},
   "outputs": [],
   "source": [
    "import random"
   ]
  },
  {
   "cell_type": "code",
   "execution_count": 35,
   "id": "dc5151d1",
   "metadata": {},
   "outputs": [],
   "source": [
    "from tracery.modifiers import base_english"
   ]
  },
  {
   "cell_type": "code",
   "execution_count": 65,
   "id": "c3d5a59e",
   "metadata": {
    "scrolled": true
   },
   "outputs": [
    {
     "name": "stdout",
     "output_type": "stream",
     "text": [
      "Hi\n",
      "I am Cindy, your neighbor,\n",
      "living at 23P.\n",
      "\n",
      "I am writing to you\n",
      "because I have been  'careless': 'powerless',\n",
      "with the noise.\n",
      "\n",
      " 'in despair': 'sad',,  'infuriated': 'angry',,\n",
      "I don't wish to prevent enjoying\n",
      "your home\n",
      "\n",
      "but the  'curious': 'attracted',!I hope we can come with an arrangement.\n",
      "\n",
      "Best,\n",
      "Sherry\n",
      "\n",
      "\n",
      "....\n",
      "..\n",
      "Good morning\n",
      "I am Katherine, your neighbor,\n",
      "living at 7O.\n",
      "\n",
      "I am writing to you\n",
      "because I have been  'hardy': 'fearless',\n",
      "with the water flood.\n",
      "\n",
      " 'discarded': 'hated',,  'boiling': 'angry',,\n",
      "I don't wish to prevent enjoying\n",
      "your home\n",
      "\n",
      "but the  'tricked': 'entitled',!I hope we can come with an arrangement.\n",
      "\n",
      "Best,\n",
      "Eduardo\n",
      "\n",
      "\n",
      "....\n",
      "..\n",
      "How's everything\n",
      "I am Eddie, your neighbor,\n",
      "living at 52H.\n",
      "\n",
      "I am writing to you\n",
      "because I have been  'lethargic': 'apathetic',\n",
      "with the pounding.\n",
      "\n",
      " 'depressed': 'sad',,  'frisky': 'happy',,\n",
      "I don't wish to prevent enjoying\n",
      "your home\n",
      "\n",
      "but the  'hated': 'hated',!I hope we can come with an arrangement.\n",
      "\n",
      "Best,\n",
      "Stephanie\n",
      "\n",
      "\n",
      "....\n",
      "..\n",
      "How's everything\n",
      "I am Marco, your neighbor,\n",
      "living at 33O.\n",
      "\n",
      "I am writing to you\n",
      "because I have been  'desirous': 'attracted',\n",
      "with the black mold.\n",
      "\n",
      " 'indifferent': 'bored',,  'livid': 'angry',,\n",
      "I don't wish to prevent enjoying\n",
      "your home\n",
      "\n",
      "but the  'welcomed': 'loved',!I hope we can come with an arrangement.\n",
      "\n",
      "Best,\n",
      "Brittany\n",
      "\n",
      "\n",
      "....\n",
      "..\n",
      "How's everything\n",
      "I am Neil, your neighbor,\n",
      "living at .\n",
      "\n",
      "I am writing to you\n",
      "because I have been  'interrogated': 'singled out',\n",
      "with the love and peace.\n",
      "\n",
      " 'spiritless': 'sad',,  'menaced': 'fearful',,\n",
      "I don't wish to prevent enjoying\n",
      "your home\n",
      "\n",
      "but the  'resolute': 'fearless',!I hope we can come with an arrangement.\n",
      "\n",
      "Best,\n",
      "Robert\n",
      "\n",
      "\n",
      "....\n",
      "..\n",
      "Good morning\n",
      "I am Donna, your neighbor,\n",
      "living at 51T.\n",
      "\n",
      "I am writing to you\n",
      "because I have been  'fearful',\n",
      "with the noise.\n",
      "\n",
      " 'anguished': 'sad',,  'phobic': 'fearful',,\n",
      "I don't wish to prevent enjoying\n",
      "your home\n",
      "\n",
      "but the  'full of ennui': 'apathetic',!I hope we can come with an arrangement.\n",
      "\n",
      "Best,\n",
      "Rosa\n",
      "\n",
      "\n",
      "....\n",
      "..\n"
     ]
    }
   ],
   "source": [
    "rules = {\n",
    "  \"origin\":\"#greeting#\"\"\\n\"\n",
    "           \"I am #name#, your neighbor,\"\"\\n\"\n",
    "           \"living at #floor#.\"\"\\n\"\"\\n\"\n",
    "           \"I am writing to you\"\"\\n\"\n",
    "           \"because I have been #emotion#\"\"\\n\"\n",
    "           \"with the #complaint#.\"\"\\n\"\"\\n\"\n",
    "           \"#emotion#, #emotion#,\"\"\\n\"\n",
    "           \"I don't wish to prevent enjoying\"\"\\n\"\n",
    "           \"your home\"\"\\n\"\"\\n\"\n",
    "           \"but the #emotion#!\"\n",
    "           \"I hope we can come with an arrangement.\"\"\\n\"\"\\n\"\n",
    "           \"Best,\"\"\\n\"\n",
    "           \"#name#\"\"\\n\"\n",
    "           \"\\n\"\n",
    "    ,\n",
    "  \"greeting\": [\n",
    "      \"Hello\",\n",
    "      \"Good morning\",\n",
    "      \"Hi\",\n",
    "      \"Hey\",\n",
    "      \"How's everything\"\n",
    "  ],\n",
    "    \"complaint\": [\n",
    "        \"noise\",\n",
    "        \"cockroach\",\n",
    "        \"black mold\",\n",
    "        \"mouse\",\n",
    "        \"ants\",\n",
    "        \"loud music\",\n",
    "        \"party\",\n",
    "        \"water flood\",\n",
    "        \"sink clogging\",\n",
    "        \"dancing\",\n",
    "        \"love and peace\",\n",
    "        \"break in\",\n",
    "        \"pounding\"\n",
    "    ],\n",
    "    \"emotion\": emotion,\n",
    "    \"name\": names,\n",
    "    \"floor\": floor,\n",
    "}\n",
    "for i in range(6) :\n",
    "    grammar = tracery.Grammar(rules)\n",
    "    grammar.add_modifiers(base_english)\n",
    "    print(grammar.flatten(\"#origin#\"))\n",
    "    print(\"....\")\n",
    "    print(\"..\")"
   ]
  },
  {
   "cell_type": "code",
   "execution_count": 23,
   "id": "f57db729",
   "metadata": {},
   "outputs": [],
   "source": [
    "grammar = tracery.Grammar(rules) "
   ]
  },
  {
   "cell_type": "code",
   "execution_count": 36,
   "id": "8c47b897",
   "metadata": {},
   "outputs": [
    {
     "data": {
      "text/plain": [
       "'Hello\\nI am , your neighbor, living ((floor)).'"
      ]
     },
     "execution_count": 36,
     "metadata": {},
     "output_type": "execute_result"
    }
   ],
   "source": [
    "grammar.flatten(\"#origin#\")"
   ]
  },
  {
   "cell_type": "code",
   "execution_count": 56,
   "id": "c7841e24",
   "metadata": {},
   "outputs": [],
   "source": [
    "names = [item.capitalize() for item in open(\"names.txt\").read().split(\"\\n\")]"
   ]
  },
  {
   "cell_type": "code",
   "execution_count": 45,
   "id": "789e1fed",
   "metadata": {},
   "outputs": [],
   "source": [
    "floor = [item.upper() for item in open(\"floors.txt\").read().split(\"\\n\")]"
   ]
  },
  {
   "cell_type": "code",
   "execution_count": 52,
   "id": "342d0d67",
   "metadata": {},
   "outputs": [],
   "source": [
    "emotion = [item.lower() for item in open(\"emotion.txt\").read().split(\"\\n\")]"
   ]
  }
 ],
 "metadata": {
  "kernelspec": {
   "display_name": "Python 3 (ipykernel)",
   "language": "python",
   "name": "python3"
  },
  "language_info": {
   "codemirror_mode": {
    "name": "ipython",
    "version": 3
   },
   "file_extension": ".py",
   "mimetype": "text/x-python",
   "name": "python",
   "nbconvert_exporter": "python",
   "pygments_lexer": "ipython3",
   "version": "3.9.13"
  }
 },
 "nbformat": 4,
 "nbformat_minor": 5
}
